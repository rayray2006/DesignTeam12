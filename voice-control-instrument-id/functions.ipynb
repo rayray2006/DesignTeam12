{
 "cells": [
  {
   "cell_type": "code",
   "execution_count": 2,
   "id": "a8ac83fc-fad7-4ba8-bd93-82cc40f2942b",
   "metadata": {
    "scrolled": true
   },
   "outputs": [
    {
     "name": "stderr",
     "output_type": "stream",
     "text": [
      "C:\\Users\\maxis\\anaconda3\\envs\\dt12\\lib\\site-packages\\requests\\__init__.py:86: RequestsDependencyWarning: Unable to find acceptable character detection dependency (chardet or charset_normalizer).\n",
      "  warnings.warn(\n"
     ]
    },
    {
     "name": "stdout",
     "output_type": "stream",
     "text": [
      "loading model\n",
      "loading model finished\n",
      "Using prompts: Scalpel Forceps Scissors Tweezers\n"
     ]
    }
   ],
   "source": [
    "import time\n",
    "from collections import deque\n",
    "import os\n",
    "from dotenv import load_dotenv\n",
    "import numpy as np\n",
    "import pvporcupine\n",
    "import pvcobra\n",
    "import whisper\n",
    "from pvrecorder import PvRecorder\n",
    "import torch\n",
    "import string\n",
    "from ultralytics import YOLO\n",
    "\n",
    "load_dotenv()\n",
    "\n",
    "porcupine = pvporcupine.create(\n",
    "    access_key=os.environ.get(\"ACCESS_KEY\"),\n",
    "    keyword_paths=[os.environ.get(\"WAKE_WORD_MODEL_PATH\")],\n",
    ")\n",
    "\n",
    "cobra = pvcobra.create(\n",
    "    access_key=os.environ.get(\"ACCESS_KEY\"),\n",
    ")\n",
    "\n",
    "recoder = PvRecorder(device_index=-1, frame_length=512)\n",
    "\n",
    "# frame length = 512\n",
    "# samples per frame = 16,000\n",
    "# 1 sec = 16,000 / 512\n",
    "\n",
    "\n",
    "class Transcriber:\n",
    "    def __init__(self, model) -> None:\n",
    "        print(\"loading model\")\n",
    "        # TODO: put model on GPU\n",
    "        self.model = whisper.load_model(model)\n",
    "        print(\"loading model finished\")\n",
    "        self.prompts = os.environ.get(\"WHISPER_INITIAL_PROMPT\", \"\")\n",
    "        print(f\"Using prompts: {self.prompts}\")\n",
    "\n",
    "    def transcribe(self, frames):\n",
    "        transcribe_start = time.time()\n",
    "        samples = np.array(frames, np.int16).flatten().astype(np.float32) / 32768.0\n",
    "\n",
    "        # audio = whisper.pad_or_trim(samples)\n",
    "        # print(f\"{transcribe_start} transcribing {len(frames)} frames.\")\n",
    "        # # audio = whisper.pad_or_trim(frames)\n",
    "\n",
    "        # # make log-Mel spectrogram and move to the same device as the model\n",
    "        # mel = whisper.log_mel_spectrogram(audio).to(self.model.device)\n",
    "\n",
    "        # # decode the audio\n",
    "        # options = whisper.DecodingOptions(fp16=False, language=\"english\")\n",
    "        # result = whisper.decode(self.model, mel, options)\n",
    "\n",
    "        result = self.model.transcribe(\n",
    "            audio=samples,\n",
    "            language=\"en\",\n",
    "            fp16=False,\n",
    "            initial_prompt=self.prompts,\n",
    "        )\n",
    "\n",
    "        # print the recognized text\n",
    "        transcribe_end = time.time()\n",
    "        # print(\n",
    "        #     f\"{transcribe_end} - {transcribe_end - transcribe_start}sec: {result.get('text')}\",\n",
    "        #     flush=True,\n",
    "        # )\n",
    "        return result.get(\"text\", \"speech not detected\")\n",
    "\n",
    "\n",
    "transcriber = Transcriber(os.environ.get(\"WHISPER_MODEL\"))\n",
    "\n",
    "sample_rate = 16000\n",
    "frame_size = 512\n",
    "vad_mean_probability_sensitivity = float(os.environ.get(\"VAD_SENSITIVITY\"))\n",
    "\n",
    "def get_voice_command():\n",
    "    try:\n",
    "        recoder.start()\n",
    "    \n",
    "        max_window_in_secs = 3\n",
    "        window_size = sample_rate * max_window_in_secs\n",
    "        samples = deque(maxlen=(window_size * 6))\n",
    "        vad_samples = deque(maxlen=25)\n",
    "        is_recording = False\n",
    "        print(\"ASTRA is listening...\")\n",
    "        \n",
    "        while True:\n",
    "            data = recoder.read()\n",
    "            vad_prob = cobra.process(data)\n",
    "            vad_samples.append(vad_prob)\n",
    "            # print(f\"{vad_prob} - {np.mean(vad_samples)} - {len(vad_samples)}\")\n",
    "            if porcupine.process(data) >= 0:\n",
    "                print(f\"Detected wakeword\")\n",
    "                is_recording = True\n",
    "                samples.clear()\n",
    "    \n",
    "            if is_recording:\n",
    "                if (\n",
    "                    len(samples) < window_size\n",
    "                    or np.mean(vad_samples) >= vad_mean_probability_sensitivity\n",
    "                ):\n",
    "                    samples.extend(data)\n",
    "                    # print(f\"listening - samples: {len(samples)}\")\n",
    "                else:\n",
    "                    print(\"is_recording: False\")\n",
    "                    print(transcriber.transcribe(samples))\n",
    "                    is_recording = False\n",
    "                    recoder.stop()\n",
    "    except KeyboardInterrupt:\n",
    "        recoder.stop()\n",
    "    finally:\n",
    "        porcupine.delete()\n",
    "        recoder.delete()\n",
    "        cobra.delete()\n",
    "\n",
    "    command = transcriber.transcribe(samples)\n",
    "    return command"
   ]
  },
  {
   "cell_type": "code",
   "execution_count": 3,
   "id": "43138053-d5d3-4cae-8814-d0cd345bce87",
   "metadata": {},
   "outputs": [],
   "source": [
    "# Identify instrument from transcription\n",
    "\n",
    "def get_instrument_name(command):\n",
    "    # command = transcriber.transcribe(samples)\n",
    "    instruments = ['forceps', 'scalpel', 'scissors', 'tweezers']\n",
    "    \n",
    "    instrument = ''\n",
    "    for word in command.split():\n",
    "        word = (word.translate(str.maketrans('', '', string.punctuation))).lower()\n",
    "        if word in instruments:\n",
    "            instrument = word\n",
    "    if instrument == '':\n",
    "        instrument = \"No instrument found\"\n",
    "    return instrument\n"
   ]
  },
  {
   "cell_type": "code",
   "execution_count": 4,
   "id": "4debb061-0a4f-4e5c-b169-7fad517d3e0f",
   "metadata": {},
   "outputs": [
    {
     "ename": "NameError",
     "evalue": "name 'model' is not defined",
     "output_type": "error",
     "traceback": [
      "\u001b[1;31m---------------------------------------------------------------------------\u001b[0m",
      "\u001b[1;31mNameError\u001b[0m                                 Traceback (most recent call last)",
      "Cell \u001b[1;32mIn[4], line 9\u001b[0m\n\u001b[0;32m      6\u001b[0m     model \u001b[38;5;241m=\u001b[39m torch\u001b[38;5;241m.\u001b[39mhub\u001b[38;5;241m.\u001b[39mload(\u001b[38;5;124m'\u001b[39m\u001b[38;5;124multralytics/yolov5\u001b[39m\u001b[38;5;124m'\u001b[39m, \u001b[38;5;124m'\u001b[39m\u001b[38;5;124mcustom\u001b[39m\u001b[38;5;124m'\u001b[39m, path\u001b[38;5;241m=\u001b[39m\u001b[38;5;124m'\u001b[39m\u001b[38;5;124m./models/instrument_detector_model.pt\u001b[39m\u001b[38;5;124m'\u001b[39m, force_reload\u001b[38;5;241m=\u001b[39m\u001b[38;5;28;01mTrue\u001b[39;00m)  \u001b[38;5;66;03m# load a custom model\u001b[39;00m\n\u001b[0;32m      8\u001b[0m \u001b[38;5;66;03m# Predict with the model\u001b[39;00m\n\u001b[1;32m----> 9\u001b[0m results \u001b[38;5;241m=\u001b[39m \u001b[43mmodel\u001b[49m(\u001b[38;5;124m\"\u001b[39m\u001b[38;5;124m./eval-images/inst-notape.jpg\u001b[39m\u001b[38;5;124m\"\u001b[39m)\n",
      "\u001b[1;31mNameError\u001b[0m: name 'model' is not defined"
     ]
    }
   ],
   "source": [
    "# Yolo trained on DocCheck (Rona) dataset\n",
    "\n",
    "def load_model():\n",
    "    # load yolov5 from online\n",
    "    # TODO: change to local\n",
    "    model = torch.hub.load('ultralytics/yolov5', 'custom', path='./models/instrument_detector_model.pt', force_reload=True)  # load a custom model\n",
    "\n",
    "# Predict with the model\n",
    "results = model(\"./eval-images/inst-notape.jpg\")  # predict on an image\n"
   ]
  },
  {
   "cell_type": "code",
   "execution_count": null,
   "id": "0e2a1344-4f7b-4193-bcbd-89272d9da10a",
   "metadata": {},
   "outputs": [],
   "source": [
    "# Translate results\n",
    "results.names = {0: 'Standard Anatomical Tweezers',\n",
    " 1: 'Slim Anatomical Tweezers',\n",
    " 2: 'Surgical Tweezers',\n",
    " 3: 'Splinter Tweezers',\n",
    " 4: 'Scalpel Handle No. 3',\n",
    " 5: 'Scalpel Handle No. 4',\n",
    " 6: 'Clenched Scalpel',\n",
    " 7: 'Narrow Scalpel',\n",
    " 8: 'Surgical Scissors Sharp/Sharp',\n",
    " 9: 'Surgical Scissors Sharp/Narrow',\n",
    " 10: 'Standard Dissecting Scissors',\n",
    " 11: 'Dissecting Needle'}\n",
    "\n",
    "# map labels to basic voice commands \"forceps\", \"scalpel\", \"scissors\", \"needle\"\n",
    "map_instruments = {results.names[0]: 'forceps',\n",
    "                   results.names[1]: 'forceps',\n",
    "                   results.names[2]: 'forceps',\n",
    "                   results.names[3]: 'forceps',\n",
    "                   results.names[4]: 'scalpel',\n",
    "                   results.names[5]: 'scalpel',\n",
    "                   results.names[6]: 'scalpel',\n",
    "                   results.names[7]: 'scalpel',\n",
    "                   results.names[8]: 'scissors',\n",
    "                   results.names[9]: 'scissors',\n",
    "                   results.names[10]: 'scissors',\n",
    "                   results.names[11]: 'needle'}"
   ]
  },
  {
   "cell_type": "code",
   "execution_count": 9,
   "id": "acdc1e78-dfd2-4d15-ba27-f6233739e2a2",
   "metadata": {
    "scrolled": true
   },
   "outputs": [
    {
     "ename": "NameError",
     "evalue": "name 'results' is not defined",
     "output_type": "error",
     "traceback": [
      "\u001b[1;31m---------------------------------------------------------------------------\u001b[0m",
      "\u001b[1;31mNameError\u001b[0m                                 Traceback (most recent call last)",
      "Cell \u001b[1;32mIn[9], line 1\u001b[0m\n\u001b[1;32m----> 1\u001b[0m detections \u001b[38;5;241m=\u001b[39m \u001b[43mresults\u001b[49m\u001b[38;5;241m.\u001b[39mxyxy[\u001b[38;5;241m0\u001b[39m]\n\u001b[0;32m      3\u001b[0m conf_threshold \u001b[38;5;241m=\u001b[39m \u001b[38;5;241m0.65\u001b[39m\n\u001b[0;32m      4\u001b[0m \u001b[38;5;66;03m# instruments = 'forceps'\u001b[39;00m\n\u001b[0;32m      5\u001b[0m \n\u001b[0;32m      6\u001b[0m \u001b[38;5;66;03m# TODO: account for when there's multiple types of the same instrument\u001b[39;00m\n",
      "\u001b[1;31mNameError\u001b[0m: name 'results' is not defined"
     ]
    }
   ],
   "source": [
    "detections = results.xyxy[0]\n",
    "\n",
    "conf_threshold = 0.65\n",
    "# instruments = 'forceps'\n",
    "\n",
    "# TODO: account for when there's multiple types of the same instrument\n",
    "\n",
    "x_midpoint = 0\n",
    "y_midpoint = 0\n",
    "\n",
    "for *box, conf, cls in detections:\n",
    "    cls = int(cls)\n",
    "    x1, y1, x2, y2 = box\n",
    "    # if detection matches the instrument from voice command\n",
    "    if map_instruments[results.names[cls]] == instrument and conf >= conf_threshold :\n",
    "        x_midpoint = (x1 + x2) / 2\n",
    "        y_midpoint = (y1 + y2) / 2\n",
    "        print(f\"Box center: ({x_midpoint:.0f}, {y_midpoint:.0f}) | Confidence: {conf:.2f} | Class: {results.names[cls]}\")\n",
    "        break\n",
    "\n",
    "if x_midpoint == 0:\n",
    "    print(\"No instrument found\")"
   ]
  },
  {
   "cell_type": "code",
   "execution_count": 5,
   "id": "dbd931d6-f469-4e24-b38b-dc461731d605",
   "metadata": {},
   "outputs": [
    {
     "name": "stdout",
     "output_type": "stream",
     "text": [
      "ASTRA is listening...\n",
      "Detected wakeword\n",
      "is_recording: False\n",
      " Give me a scalpel\n"
     ]
    },
    {
     "ename": "ValueError",
     "evalue": "Failed to read from device.",
     "output_type": "error",
     "traceback": [
      "\u001b[1;31m---------------------------------------------------------------------------\u001b[0m",
      "\u001b[1;31mValueError\u001b[0m                                Traceback (most recent call last)",
      "Cell \u001b[1;32mIn[5], line 4\u001b[0m\n\u001b[0;32m      1\u001b[0m \u001b[38;5;66;03m## MAIN ##\u001b[39;00m\n\u001b[0;32m      3\u001b[0m \u001b[38;5;28;01mif\u001b[39;00m \u001b[38;5;18m__name__\u001b[39m \u001b[38;5;241m==\u001b[39m \u001b[38;5;124m\"\u001b[39m\u001b[38;5;124m__main__\u001b[39m\u001b[38;5;124m\"\u001b[39m:\n\u001b[1;32m----> 4\u001b[0m     command \u001b[38;5;241m=\u001b[39m \u001b[43mget_voice_command\u001b[49m\u001b[43m(\u001b[49m\u001b[43m)\u001b[49m\n\u001b[0;32m      5\u001b[0m     inst \u001b[38;5;241m=\u001b[39m get_instrument_name(command)\n",
      "Cell \u001b[1;32mIn[2], line 90\u001b[0m, in \u001b[0;36mget_voice_command\u001b[1;34m()\u001b[0m\n\u001b[0;32m     87\u001b[0m \u001b[38;5;28mprint\u001b[39m(\u001b[38;5;124m\"\u001b[39m\u001b[38;5;124mASTRA is listening...\u001b[39m\u001b[38;5;124m\"\u001b[39m)\n\u001b[0;32m     89\u001b[0m \u001b[38;5;28;01mwhile\u001b[39;00m \u001b[38;5;28;01mTrue\u001b[39;00m:\n\u001b[1;32m---> 90\u001b[0m     data \u001b[38;5;241m=\u001b[39m \u001b[43mrecoder\u001b[49m\u001b[38;5;241;43m.\u001b[39;49m\u001b[43mread\u001b[49m\u001b[43m(\u001b[49m\u001b[43m)\u001b[49m\n\u001b[0;32m     91\u001b[0m     vad_prob \u001b[38;5;241m=\u001b[39m cobra\u001b[38;5;241m.\u001b[39mprocess(data)\n\u001b[0;32m     92\u001b[0m     vad_samples\u001b[38;5;241m.\u001b[39mappend(vad_prob)\n",
      "File \u001b[1;32m~\\anaconda3\\envs\\dt12\\lib\\site-packages\\pvrecorder\\pvrecorder.py:132\u001b[0m, in \u001b[0;36mPvRecorder.read\u001b[1;34m(self)\u001b[0m\n\u001b[0;32m    130\u001b[0m status \u001b[38;5;241m=\u001b[39m \u001b[38;5;28mself\u001b[39m\u001b[38;5;241m.\u001b[39m_read_func(\u001b[38;5;28mself\u001b[39m\u001b[38;5;241m.\u001b[39m_handle, pcm)\n\u001b[0;32m    131\u001b[0m \u001b[38;5;28;01mif\u001b[39;00m status \u001b[38;5;129;01mis\u001b[39;00m \u001b[38;5;129;01mnot\u001b[39;00m \u001b[38;5;28mself\u001b[39m\u001b[38;5;241m.\u001b[39mPvRecorderStatuses\u001b[38;5;241m.\u001b[39mSUCCESS:\n\u001b[1;32m--> 132\u001b[0m     \u001b[38;5;28;01mraise\u001b[39;00m \u001b[38;5;28mself\u001b[39m\u001b[38;5;241m.\u001b[39m_PVRECORDER_STATUS_TO_EXCEPTION[status](\u001b[38;5;124m\"\u001b[39m\u001b[38;5;124mFailed to read from device.\u001b[39m\u001b[38;5;124m\"\u001b[39m)\n\u001b[0;32m    133\u001b[0m \u001b[38;5;28;01mreturn\u001b[39;00m pcm[\u001b[38;5;241m0\u001b[39m:\u001b[38;5;28mself\u001b[39m\u001b[38;5;241m.\u001b[39m_frame_length]\n",
      "\u001b[1;31mValueError\u001b[0m: Failed to read from device."
     ]
    }
   ],
   "source": [
    "## MAIN ##\n",
    "\n",
    "if __name__ == \"__main__\":\n",
    "    command = get_voice_command()\n",
    "    inst = get_instrument_name(command)\n",
    "    "
   ]
  }
 ],
 "metadata": {
  "kernelspec": {
   "display_name": "Python (dt12)",
   "language": "python",
   "name": "dt12"
  },
  "language_info": {
   "codemirror_mode": {
    "name": "ipython",
    "version": 3
   },
   "file_extension": ".py",
   "mimetype": "text/x-python",
   "name": "python",
   "nbconvert_exporter": "python",
   "pygments_lexer": "ipython3",
   "version": "3.9.21"
  }
 },
 "nbformat": 4,
 "nbformat_minor": 5
}
