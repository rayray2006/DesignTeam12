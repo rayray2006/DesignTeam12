{
 "cells": [
  {
   "cell_type": "code",
   "execution_count": 1,
   "id": "a8ac83fc-fad7-4ba8-bd93-82cc40f2942b",
   "metadata": {},
   "outputs": [
    {
     "name": "stderr",
     "output_type": "stream",
     "text": [
      "C:\\Users\\maxis\\anaconda3\\envs\\dt12\\lib\\site-packages\\requests\\__init__.py:86: RequestsDependencyWarning: Unable to find acceptable character detection dependency (chardet or charset_normalizer).\n",
      "  warnings.warn(\n"
     ]
    }
   ],
   "source": [
    "import time\n",
    "from collections import deque\n",
    "import os\n",
    "from dotenv import load_dotenv\n",
    "import numpy as np\n",
    "import pvporcupine\n",
    "import pvcobra\n",
    "import whisper\n",
    "from pvrecorder import PvRecorder\n",
    "import torch\n",
    "import string\n",
    "from ultralytics import YOLO\n",
    "\n",
    "\n",
    "class Transcriber:\n",
    "    def __init__(self, model) -> None:\n",
    "        print(\"loading model\")\n",
    "        # TODO: put model on GPU\n",
    "        self.model = whisper.load_model(model)\n",
    "        print(\"loading model finished\")\n",
    "        self.prompts = os.environ.get(\"WHISPER_INITIAL_PROMPT\", \"\")\n",
    "        print(f\"Using prompts: {self.prompts}\")\n",
    "\n",
    "    def transcribe(self, frames):\n",
    "        transcribe_start = time.time()\n",
    "        samples = np.array(frames, np.int16).flatten().astype(np.float32) / 32768.0\n",
    "\n",
    "        # audio = whisper.pad_or_trim(samples)\n",
    "        # print(f\"{transcribe_start} transcribing {len(frames)} frames.\")\n",
    "        # # audio = whisper.pad_or_trim(frames)\n",
    "\n",
    "        # # make log-Mel spectrogram and move to the same device as the model\n",
    "        # mel = whisper.log_mel_spectrogram(audio).to(self.model.device)\n",
    "\n",
    "        # # decode the audio\n",
    "        # options = whisper.DecodingOptions(fp16=False, language=\"english\")\n",
    "        # result = whisper.decode(self.model, mel, options)\n",
    "\n",
    "        result = self.model.transcribe(\n",
    "            audio=samples,\n",
    "            language=\"en\",\n",
    "            fp16=False,\n",
    "            initial_prompt=self.prompts,\n",
    "        )\n",
    "\n",
    "        # print the recognized text\n",
    "        transcribe_end = time.time()\n",
    "        # print(\n",
    "        #     f\"{transcribe_end} - {transcribe_end - transcribe_start}sec: {result.get('text')}\",\n",
    "        #     flush=True,\n",
    "        # )\n",
    "        return result.get(\"text\", \"speech not detected\")\n",
    "\n",
    "def load_voice_model():\n",
    "    load_dotenv()\n",
    "\n",
    "    porcupine = pvporcupine.create(\n",
    "        access_key=os.environ.get(\"ACCESS_KEY\"),\n",
    "        keyword_paths=[os.environ.get(\"WAKE_WORD_MODEL_PATH\")],\n",
    "    )\n",
    "\n",
    "    cobra = pvcobra.create(\n",
    "        access_key=os.environ.get(\"ACCESS_KEY\"),\n",
    "    )\n",
    "\n",
    "    recoder = PvRecorder(device_index=-1, frame_length=512)\n",
    "\n",
    "    # frame length = 512\n",
    "    # samples per frame = 16,000\n",
    "    # 1 sec = 16,000 / 512\n",
    "\n",
    "    return porcupine, cobra, recoder\n",
    "\n",
    "def get_voice_command(porcupine, cobra, recoder):\n",
    "    transcriber = Transcriber(os.environ.get(\"WHISPER_MODEL\"))\n",
    "    sample_rate = 16000\n",
    "    frame_size = 512\n",
    "    vad_mean_probability_sensitivity = float(os.environ.get(\"VAD_SENSITIVITY\"))\n",
    "    recoder.start()\n",
    "\n",
    "    max_window_in_secs = 3\n",
    "    window_size = sample_rate * max_window_in_secs\n",
    "    samples = deque(maxlen=(window_size * 6))\n",
    "    vad_samples = deque(maxlen=25)\n",
    "    is_recording = False\n",
    "    print(\"ASTRA is listening...\")\n",
    "    \n",
    "    while True:\n",
    "        data = recoder.read()\n",
    "        vad_prob = cobra.process(data)\n",
    "        vad_samples.append(vad_prob)\n",
    "        # print(f\"{vad_prob} - {np.mean(vad_samples)} - {len(vad_samples)}\")\n",
    "        if porcupine.process(data) >= 0:\n",
    "            print(f\"Detected wakeword\")\n",
    "            is_recording = True\n",
    "            samples.clear()\n",
    "\n",
    "        if is_recording:\n",
    "            if (\n",
    "                len(samples) < window_size\n",
    "                or np.mean(vad_samples) >= vad_mean_probability_sensitivity\n",
    "            ):\n",
    "                samples.extend(data)\n",
    "                # print(f\"listening - samples: {len(samples)}\")\n",
    "            else:\n",
    "                print(\"is_recording: False\")\n",
    "                command = transcriber.transcribe(samples)\n",
    "                print(command)\n",
    "                is_recording = False\n",
    "                recoder.stop()\n",
    "                porcupine.delete()\n",
    "                recoder.delete()\n",
    "                cobra.delete()\n",
    "                return command"
   ]
  },
  {
   "cell_type": "code",
   "execution_count": 3,
   "id": "edf8dec8-596b-4955-aa23-a4c55524e125",
   "metadata": {},
   "outputs": [
    {
     "name": "stdout",
     "output_type": "stream",
     "text": [
      "loading model\n",
      "loading model finished\n",
      "Using prompts: Scalpel Forceps Scissors Tweezers\n",
      "ASTRA is listening...\n",
      "Detected wakeword\n",
      "is_recording: False\n",
      " Give me a scalpel please.\n",
      " Give me a scalpel please.\n"
     ]
    }
   ],
   "source": [
    "porcupine, cobra, recorder = load_voice_model()\n",
    "command = get_voice_command(porcupine, cobra, recorder)"
   ]
  },
  {
   "cell_type": "code",
   "execution_count": 2,
   "id": "43138053-d5d3-4cae-8814-d0cd345bce87",
   "metadata": {},
   "outputs": [],
   "source": [
    "# Identify instrument from transcription\n",
    "\n",
    "def get_instrument_name(command):\n",
    "    # command = transcriber.transcribe(samples)\n",
    "    instruments = ['forceps', 'scalpel', 'scissors', 'tweezers']\n",
    "    \n",
    "    instrument = ''\n",
    "    for word in command.split():\n",
    "        word = (word.translate(str.maketrans('', '', string.punctuation))).lower()\n",
    "        if word in instruments:\n",
    "            instrument = word\n",
    "    if instrument == '':\n",
    "        instrument = \"No instrument found\"\n",
    "    return instrument\n"
   ]
  },
  {
   "cell_type": "code",
   "execution_count": 5,
   "id": "d52453dc-b315-4dd9-88f6-bdda170cc014",
   "metadata": {},
   "outputs": [
    {
     "data": {
      "text/plain": [
       "'scalpel'"
      ]
     },
     "execution_count": 5,
     "metadata": {},
     "output_type": "execute_result"
    }
   ],
   "source": [
    "inst = get_instrument_name(command)"
   ]
  },
  {
   "cell_type": "code",
   "execution_count": 3,
   "id": "4debb061-0a4f-4e5c-b169-7fad517d3e0f",
   "metadata": {},
   "outputs": [],
   "source": [
    "# Yolo trained on DocCheck (Rona) dataset\n",
    "\n",
    "def load_model(path):\n",
    "    # load yolov5 from online\n",
    "    # TODO: change to local\n",
    "    model = torch.hub.load('ultralytics/yolov5', 'custom', path=path, force_reload=True)  # load a custom model\n",
    "    return model"
   ]
  },
  {
   "cell_type": "code",
   "execution_count": 7,
   "id": "8a59aea7-af74-4cb2-9633-9811defb4930",
   "metadata": {},
   "outputs": [
    {
     "name": "stderr",
     "output_type": "stream",
     "text": [
      "Downloading: \"https://github.com/ultralytics/yolov5/zipball/master\" to C:\\Users\\maxis/.cache\\torch\\hub\\master.zip\n",
      "YOLOv5  2025-4-10 Python-3.9.21 torch-2.6.0+cu118 CUDA:0 (NVIDIA GeForce RTX 3050 Laptop GPU, 4096MiB)\n",
      "\n",
      "Fusing layers... \n",
      "Model summary: 267 layers, 46167513 parameters, 0 gradients, 107.8 GFLOPs\n",
      "Adding AutoShape... \n",
      "C:\\Users\\maxis/.cache\\torch\\hub\\ultralytics_yolov5_master\\models\\common.py:906: FutureWarning: `torch.cuda.amp.autocast(args...)` is deprecated. Please use `torch.amp.autocast('cuda', args...)` instead.\n",
      "  with amp.autocast(autocast):\n"
     ]
    }
   ],
   "source": [
    "model = load_model('./models/instrument_detector_model.pt')\n",
    "# Predict with the model"
   ]
  },
  {
   "cell_type": "code",
   "execution_count": 4,
   "id": "a8879e42-2f45-4c6d-a7e9-733b72d80a95",
   "metadata": {},
   "outputs": [],
   "source": [
    "def identify_instrument(model, img_path, instrument):\n",
    "    results = model(img_path)  # predict on an image\n",
    "\n",
    "    # Translate results\n",
    "    results.names = {0: 'Standard Anatomical Tweezers',\n",
    "     1: 'Slim Anatomical Tweezers',\n",
    "     2: 'Surgical Tweezers',\n",
    "     3: 'Splinter Tweezers',\n",
    "     4: 'Scalpel Handle No. 3',\n",
    "     5: 'Scalpel Handle No. 4',\n",
    "     6: 'Clenched Scalpel',\n",
    "     7: 'Narrow Scalpel',\n",
    "     8: 'Surgical Scissors Sharp/Sharp',\n",
    "     9: 'Surgical Scissors Sharp/Narrow',\n",
    "     10: 'Standard Dissecting Scissors',\n",
    "     11: 'Dissecting Needle'}\n",
    "\n",
    "    results.save()\n",
    "    \n",
    "    # map labels to basic voice commands \"forceps\", \"scalpel\", \"scissors\", \"needle\"\n",
    "    map_instruments = {results.names[0]: 'forceps',\n",
    "                       results.names[1]: 'forceps',\n",
    "                       results.names[2]: 'forceps',\n",
    "                       results.names[3]: 'forceps',\n",
    "                       results.names[4]: 'scalpel',\n",
    "                       results.names[5]: 'scalpel',\n",
    "                       results.names[6]: 'scalpel',\n",
    "                       results.names[7]: 'scalpel',\n",
    "                       results.names[8]: 'scissors',\n",
    "                       results.names[9]: 'scissors',\n",
    "                       results.names[10]: 'scissors',\n",
    "                       results.names[11]: 'needle'}\n",
    "\n",
    "    detections = results.xyxy[0]\n",
    "\n",
    "    conf_threshold = 0.65\n",
    "    # instruments = 'forceps'\n",
    "    \n",
    "    # TODO: account for when there's multiple types of the same instrument\n",
    "    \n",
    "    x_midpoint = 0\n",
    "    y_midpoint = 0\n",
    "    \n",
    "    for *box, conf, cls in detections:\n",
    "        cls = int(cls)\n",
    "        x1, y1, x2, y2 = box\n",
    "        # if detection matches the instrument from voice command\n",
    "        if map_instruments[results.names[cls]] == instrument and conf >= conf_threshold :\n",
    "            x_midpoint = (x1 + x2) / 2\n",
    "            y_midpoint = (y1 + y2) / 2\n",
    "            print(f\"Box center: ({x_midpoint:.0f}, {y_midpoint:.0f}) | Confidence: {conf:.2f} | Class: {results.names[cls]}\")\n",
    "            break\n",
    "    \n",
    "    if x_midpoint == 0:\n",
    "        print(\"No instrument found\")\n",
    "\n",
    "    return x_midpoint, y_midpoint"
   ]
  },
  {
   "cell_type": "code",
   "execution_count": 11,
   "id": "e11a0b0b-e735-46e1-9b7c-120b07c04d5b",
   "metadata": {},
   "outputs": [
    {
     "name": "stderr",
     "output_type": "stream",
     "text": [
      "C:\\Users\\maxis/.cache\\torch\\hub\\ultralytics_yolov5_master\\models\\common.py:906: FutureWarning: `torch.cuda.amp.autocast(args...)` is deprecated. Please use `torch.amp.autocast('cuda', args...)` instead.\n",
      "  with amp.autocast(autocast):\n"
     ]
    },
    {
     "name": "stdout",
     "output_type": "stream",
     "text": [
      "Box center: (1480, 1399) | Confidence: 0.85 | Class: Scalpel Handle No. 3\n"
     ]
    }
   ],
   "source": [
    "x_mid, y_mid = identify_instrument(model, './eval-images/inst-notape.jpg', inst)"
   ]
  },
  {
   "cell_type": "code",
   "execution_count": 5,
   "id": "0e2a1344-4f7b-4193-bcbd-89272d9da10a",
   "metadata": {},
   "outputs": [],
   "source": [
    "from PIL import Image, ImageDraw\n",
    "\n",
    "def draw_instrument_pt(image_path, x, y, radius=5):\n",
    "    # Open the image\n",
    "    img = Image.open(image_path).convert(\"RGB\")\n",
    "    draw = ImageDraw.Draw(img)\n",
    "\n",
    "    # Draw a red dot (circle)\n",
    "    left_up_point = (x - radius, y - radius)\n",
    "    right_down_point = (x + radius, y + radius)\n",
    "    draw.ellipse([left_up_point, right_down_point], fill='red', outline='red')\n",
    "\n",
    "    # Display the image\n",
    "    img.show()"
   ]
  },
  {
   "cell_type": "code",
   "execution_count": 9,
   "id": "040e1836-ca5a-42d5-af44-2be49962717f",
   "metadata": {},
   "outputs": [
    {
     "name": "stderr",
     "output_type": "stream",
     "text": [
      "Downloading: \"https://github.com/ultralytics/yolov5/zipball/master\" to C:\\Users\\maxis/.cache\\torch\\hub\\master.zip\n",
      "YOLOv5  2025-4-10 Python-3.9.21 torch-2.6.0+cu118 CUDA:0 (NVIDIA GeForce RTX 3050 Laptop GPU, 4096MiB)\n",
      "\n",
      "Fusing layers... \n",
      "Model summary: 267 layers, 46167513 parameters, 0 gradients, 107.8 GFLOPs\n",
      "Adding AutoShape... \n"
     ]
    }
   ],
   "source": [
    "model_path = './models/instrument_detector_model.pt'\n",
    "model = load_model(model_path)"
   ]
  },
  {
   "cell_type": "code",
   "execution_count": 10,
   "id": "dbd931d6-f469-4e24-b38b-dc461731d605",
   "metadata": {},
   "outputs": [
    {
     "name": "stdout",
     "output_type": "stream",
     "text": [
      "loading model\n",
      "loading model finished\n",
      "Using prompts: Scalpel Forceps Scissors Tweezers\n",
      "ASTRA is listening...\n",
      "Detected wakeword\n",
      "is_recording: False\n",
      " Okay sir, it's an hour. Give me a stumble.\n"
     ]
    },
    {
     "name": "stderr",
     "output_type": "stream",
     "text": [
      "C:\\Users\\maxis/.cache\\torch\\hub\\ultralytics_yolov5_master\\models\\common.py:906: FutureWarning: `torch.cuda.amp.autocast(args...)` is deprecated. Please use `torch.amp.autocast('cuda', args...)` instead.\n",
      "  with amp.autocast(autocast):\n",
      "Saved 1 image to \u001b[1mruns\\detect\\exp24\u001b[0m\n"
     ]
    },
    {
     "name": "stdout",
     "output_type": "stream",
     "text": [
      "No instrument found\n"
     ]
    }
   ],
   "source": [
    "## MAIN ##\n",
    "\n",
    "if __name__ == \"__main__\":\n",
    "    \n",
    "    img_path = './eval-images/inst-notape.jpg'\n",
    "    \n",
    "    porcupine, cobra, recorder = load_voice_model()\n",
    "    command = get_voice_command(porcupine, cobra, recorder)\n",
    "    inst = get_instrument_name(command)\n",
    "    x_mid, y_mid = identify_instrument(model, img_path, inst)\n",
    "\n",
    "    draw_instrument_pt(img_path, x_mid, y_mid, radius=20)\n",
    "    \n",
    "    "
   ]
  }
 ],
 "metadata": {
  "kernelspec": {
   "display_name": "Python (dt12)",
   "language": "python",
   "name": "dt12"
  },
  "language_info": {
   "codemirror_mode": {
    "name": "ipython",
    "version": 3
   },
   "file_extension": ".py",
   "mimetype": "text/x-python",
   "name": "python",
   "nbconvert_exporter": "python",
   "pygments_lexer": "ipython3",
   "version": "3.9.21"
  }
 },
 "nbformat": 4,
 "nbformat_minor": 5
}
