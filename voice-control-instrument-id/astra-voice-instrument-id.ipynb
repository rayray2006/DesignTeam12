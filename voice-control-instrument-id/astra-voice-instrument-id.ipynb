{
 "cells": [
  {
   "cell_type": "code",
   "execution_count": null,
   "id": "a8ac83fc-fad7-4ba8-bd93-82cc40f2942b",
   "metadata": {
    "scrolled": true
   },
   "outputs": [
    {
     "name": "stdout",
     "output_type": "stream",
     "text": [
      "models/astra.ppn\n",
      "loading model\n",
      "loading model finished\n",
      "Using prompts: Scalpel Forceps Scissors Tweezers\n"
     ]
    }
   ],
   "source": [
    "import time\n",
    "from collections import deque\n",
    "import os\n",
    "from dotenv import load_dotenv\n",
    "\n",
    "import numpy as np\n",
    "import pvporcupine\n",
    "import pvcobra\n",
    "import whisper\n",
    "from pvrecorder import PvRecorder\n",
    "import torch\n",
    "\n",
    "load_dotenv()\n",
    "\n",
    "porcupine = pvporcupine.create(\n",
    "    access_key=os.environ.get(\"ACCESS_KEY\"),\n",
    "    keyword_paths=[os.environ.get(\"WAKE_WORD_MODEL_PATH\")],\n",
    ")\n",
    "\n",
    "cobra = pvcobra.create(\n",
    "    access_key=os.environ.get(\"ACCESS_KEY\"),\n",
    ")\n",
    "\n",
    "recoder = PvRecorder(device_index=-1, frame_length=512)\n",
    "\n",
    "# frame length = 512\n",
    "# samples per frame = 16,000\n",
    "# 1 sec = 16,000 / 512\n",
    "\n",
    "\n",
    "class Transcriber:\n",
    "    def __init__(self, model) -> None:\n",
    "        print(\"loading model\")\n",
    "        # TODO: put model on GPU\n",
    "        self.model = whisper.load_model(model)\n",
    "        print(\"loading model finished\")\n",
    "        self.prompts = os.environ.get(\"WHISPER_INITIAL_PROMPT\", \"\")\n",
    "        print(f\"Using prompts: {self.prompts}\")\n",
    "\n",
    "    def transcribe(self, frames):\n",
    "        transcribe_start = time.time()\n",
    "        samples = np.array(frames, np.int16).flatten().astype(np.float32) / 32768.0\n",
    "\n",
    "        # audio = whisper.pad_or_trim(samples)\n",
    "        # print(f\"{transcribe_start} transcribing {len(frames)} frames.\")\n",
    "        # # audio = whisper.pad_or_trim(frames)\n",
    "\n",
    "        # # make log-Mel spectrogram and move to the same device as the model\n",
    "        # mel = whisper.log_mel_spectrogram(audio).to(self.model.device)\n",
    "\n",
    "        # # decode the audio\n",
    "        # options = whisper.DecodingOptions(fp16=False, language=\"english\")\n",
    "        # result = whisper.decode(self.model, mel, options)\n",
    "\n",
    "        result = self.model.transcribe(\n",
    "            audio=samples,\n",
    "            language=\"en\",\n",
    "            fp16=False,\n",
    "            initial_prompt=self.prompts,\n",
    "        )\n",
    "\n",
    "        # print the recognized text\n",
    "        transcribe_end = time.time()\n",
    "        # print(\n",
    "        #     f\"{transcribe_end} - {transcribe_end - transcribe_start}sec: {result.get('text')}\",\n",
    "        #     flush=True,\n",
    "        # )\n",
    "        return result.get(\"text\", \"speech not detected\")\n",
    "\n",
    "\n",
    "transcriber = Transcriber(os.environ.get(\"WHISPER_MODEL\"))\n",
    "\n",
    "sample_rate = 16000\n",
    "frame_size = 512\n",
    "vad_mean_probability_sensitivity = float(os.environ.get(\"VAD_SENSITIVITY\"))\n",
    "\n",
    "try:\n",
    "    recoder.start()\n",
    "\n",
    "    max_window_in_secs = 3\n",
    "    window_size = sample_rate * max_window_in_secs\n",
    "    samples = deque(maxlen=(window_size * 6))\n",
    "    vad_samples = deque(maxlen=25)\n",
    "    is_recording = False\n",
    "\n",
    "    while True:\n",
    "        data = recoder.read()\n",
    "        vad_prob = cobra.process(data)\n",
    "        vad_samples.append(vad_prob)\n",
    "        # print(f\"{vad_prob} - {np.mean(vad_samples)} - {len(vad_samples)}\")\n",
    "        if porcupine.process(data) >= 0:\n",
    "            print(f\"Detected wakeword\")\n",
    "            is_recording = True\n",
    "            samples.clear()\n",
    "\n",
    "        if is_recording:\n",
    "            if (\n",
    "                len(samples) < window_size\n",
    "                or np.mean(vad_samples) >= vad_mean_probability_sensitivity\n",
    "            ):\n",
    "                samples.extend(data)\n",
    "                # print(f\"listening - samples: {len(samples)}\")\n",
    "            else:\n",
    "                print(\"is_recording: False\")\n",
    "                print(transcriber.transcribe(samples))\n",
    "                is_recording = False\n",
    "except KeyboardInterrupt:\n",
    "    recoder.stop()\n",
    "finally:\n",
    "    porcupine.delete()\n",
    "    recoder.delete()\n",
    "    cobra.delete()\n"
   ]
  },
  {
   "cell_type": "code",
   "execution_count": 72,
   "id": "43138053-d5d3-4cae-8814-d0cd345bce87",
   "metadata": {},
   "outputs": [
    {
     "data": {
      "text/plain": [
       "'forceps'"
      ]
     },
     "execution_count": 72,
     "metadata": {},
     "output_type": "execute_result"
    }
   ],
   "source": [
    "# Identify instrument from transcription\n",
    "\n",
    "import string\n",
    "\n",
    "command = transcriber.transcribe(samples)\n",
    "# command = \"Give me forceps\"\n",
    "instruments = ['forceps', 'scalpel', 'scissors', 'tweezers']\n",
    "\n",
    "instrument = ''\n",
    "for word in command.split():\n",
    "    word = (word.translate(str.maketrans('', '', string.punctuation))).lower()\n",
    "    if word in instruments:\n",
    "        instrument = word\n",
    "\n",
    "if instrument == '':\n",
    "    print(\"No instrument found\")"
   ]
  },
  {
   "cell_type": "code",
   "execution_count": null,
   "id": "072bd7af-6fde-4ab1-b111-de3ffe944686",
   "metadata": {},
   "outputs": [],
   "source": []
  },
  {
   "cell_type": "code",
   "execution_count": 23,
   "id": "4debb061-0a4f-4e5c-b169-7fad517d3e0f",
   "metadata": {},
   "outputs": [
    {
     "name": "stderr",
     "output_type": "stream",
     "text": [
      "Using cache found in C:\\Users\\maxis/.cache\\torch\\hub\\ultralytics_yolov5_master\n",
      "YOLOv5  2025-4-12 Python-3.9.21 torch-2.6.0+cu118 CUDA:0 (NVIDIA GeForce RTX 3050 Laptop GPU, 4096MiB)\n",
      "\n",
      "Fusing layers... \n",
      "Model summary: 267 layers, 46167513 parameters, 0 gradients, 107.8 GFLOPs\n",
      "Adding AutoShape... \n",
      "C:\\Users\\maxis/.cache\\torch\\hub\\ultralytics_yolov5_master\\models\\common.py:906: FutureWarning: `torch.cuda.amp.autocast(args...)` is deprecated. Please use `torch.amp.autocast('cuda', args...)` instead.\n",
      "  with amp.autocast(autocast):\n"
     ]
    }
   ],
   "source": [
    "# Yolo trained on DocCheck (Rona) dataset\n",
    "\n",
    "from ultralytics import YOLO\n",
    "import torch\n",
    "\n",
    "# load yolov5 from online\n",
    "# TODO: change to local\n",
    "model = torch.hub.load('ultralytics/yolov5', 'custom', path='./models/instrument_detector_model.pt', force_reload=False)  # load a custom model\n",
    "\n",
    "# Predict with the model\n",
    "results = model(\"./eval-images/inst-notape.jpg\")  # predict on an image\n"
   ]
  },
  {
   "cell_type": "code",
   "execution_count": 24,
   "id": "0e2a1344-4f7b-4193-bcbd-89272d9da10a",
   "metadata": {},
   "outputs": [],
   "source": [
    "# Translate results\n",
    "results.names = {0: 'Standard Anatomical Tweezers',\n",
    " 1: 'Slim Anatomical Tweezers',\n",
    " 2: 'Surgical Tweezers',\n",
    " 3: 'Splinter Tweezers',\n",
    " 4: 'Scalpel Handle No. 3',\n",
    " 5: 'Scalpel Handle No. 4',\n",
    " 6: 'Clenched Scalpel',\n",
    " 7: 'Narrow Scalpel',\n",
    " 8: 'Surgical Scissors Sharp/Sharp',\n",
    " 9: 'Surgical Scissors Sharp/Narrow',\n",
    " 10: 'Standard Dissecting Scissors',\n",
    " 11: 'Dissecting Needle'}\n",
    "\n",
    "results.names = {0: 'Forceps',\n",
    " 1: 'Forceps',\n",
    " 2: 'Forceps',\n",
    " 3: 'Forceps',\n",
    " 4: 'Scalpel',\n",
    " 5: 'Scalpel',\n",
    " 6: 'Scalpel',\n",
    " 7: 'Scalpel',\n",
    " 8: 'Scissors',\n",
    " 9: 'Scissors',\n",
    " 10: 'Scissors',\n",
    " 11: 'Needle'}\n",
    "\n",
    "# results.names = {0: 'Tweezers',\n",
    "#  1: 'Tweezers',\n",
    "#  2: 'Tweezers',\n",
    "#  3: 'Tweezers',\n",
    "#  4: 'Scalpel',\n",
    "#  5: 'Scalpel',\n",
    "#  6: 'Scalpel',\n",
    "#  7: 'Scalpel',\n",
    "#  8: 'Scissors',\n",
    "#  9: 'Scissors',\n",
    "#  10: 'Scissors',\n",
    "#  11: 'Dissecting Needle'}\n",
    "\n",
    "# map labels to basic voice commands \"forceps\", \"scalpel\", \"scissors\", \"needle\"\n",
    "map_instruments = {results.names[0]: 'forceps',\n",
    "                   results.names[1]: 'forceps',\n",
    "                   results.names[2]: 'forceps',\n",
    "                   results.names[3]: 'forceps',\n",
    "                   results.names[4]: 'scalpel',\n",
    "                   results.names[5]: 'scalpel',\n",
    "                   results.names[6]: 'scalpel',\n",
    "                   results.names[7]: 'scalpel',\n",
    "                   results.names[8]: 'scissors',\n",
    "                   results.names[9]: 'scissors',\n",
    "                   results.names[10]: 'scissors',\n",
    "                   results.names[11]: 'needle'}"
   ]
  },
  {
   "cell_type": "code",
   "execution_count": 25,
   "id": "c07c1ed5-f9d5-4d55-8722-f448542dbc04",
   "metadata": {},
   "outputs": [
    {
     "name": "stderr",
     "output_type": "stream",
     "text": [
      "Saved 1 image to \u001b[1mruns\\detect\\exp35\u001b[0m\n"
     ]
    }
   ],
   "source": [
    "results.save()"
   ]
  },
  {
   "cell_type": "code",
   "execution_count": null,
   "id": "aaf6bea8-a686-42bb-91ec-bf77c936fcd4",
   "metadata": {},
   "outputs": [],
   "source": [
    "from PIL import Image, ImageDraw\n",
    "\n",
    "def draw_instrument_pt(image_path, x, y, radius=5):\n",
    "    # Open the image\n",
    "    img = Image.open(image_path).convert(\"RGB\")\n",
    "    draw = ImageDraw.Draw(img)\n",
    "\n",
    "    # Draw a red dot (circle)\n",
    "    left_up_point = (x - radius, y - radius)\n",
    "    right_down_point = (x + radius, y + radius)\n",
    "    draw.ellipse([left_up_point, right_down_point], fill='red', outline='red')\n",
    "\n",
    "    # Display the image\n",
    "    img.show()"
   ]
  },
  {
   "cell_type": "code",
   "execution_count": 9,
   "id": "acdc1e78-dfd2-4d15-ba27-f6233739e2a2",
   "metadata": {},
   "outputs": [
    {
     "ename": "NameError",
     "evalue": "name 'instrument' is not defined",
     "output_type": "error",
     "traceback": [
      "\u001b[1;31m---------------------------------------------------------------------------\u001b[0m",
      "\u001b[1;31mNameError\u001b[0m                                 Traceback (most recent call last)",
      "Cell \u001b[1;32mIn[9], line 15\u001b[0m\n\u001b[0;32m     13\u001b[0m x1, y1, x2, y2 \u001b[38;5;241m=\u001b[39m box\n\u001b[0;32m     14\u001b[0m \u001b[38;5;66;03m# if detection matches the instrument from voice command\u001b[39;00m\n\u001b[1;32m---> 15\u001b[0m \u001b[38;5;28;01mif\u001b[39;00m map_instruments[results\u001b[38;5;241m.\u001b[39mnames[\u001b[38;5;28mcls\u001b[39m]] \u001b[38;5;241m==\u001b[39m \u001b[43minstrument\u001b[49m \u001b[38;5;129;01mand\u001b[39;00m conf \u001b[38;5;241m>\u001b[39m\u001b[38;5;241m=\u001b[39m conf_threshold :\n\u001b[0;32m     16\u001b[0m     x_midpoint \u001b[38;5;241m=\u001b[39m (x1 \u001b[38;5;241m+\u001b[39m x2) \u001b[38;5;241m/\u001b[39m \u001b[38;5;241m2\u001b[39m\n\u001b[0;32m     17\u001b[0m     y_midpoint \u001b[38;5;241m=\u001b[39m (y1 \u001b[38;5;241m+\u001b[39m y2) \u001b[38;5;241m/\u001b[39m \u001b[38;5;241m2\u001b[39m\n",
      "\u001b[1;31mNameError\u001b[0m: name 'instrument' is not defined"
     ]
    }
   ],
   "source": [
    "detections = results.xyxy[0]\n",
    "\n",
    "conf_threshold = 0.65\n",
    "# instruments = 'forceps'\n",
    "\n",
    "# TODO: account for when there's multiple types of the same instrument\n",
    "\n",
    "x_midpoint = 0\n",
    "y_midpoint = 0\n",
    "\n",
    "for *box, conf, cls in detections:\n",
    "    cls = int(cls)\n",
    "    x1, y1, x2, y2 = box\n",
    "    # if detection matches the instrument from voice command\n",
    "    if map_instruments[results.names[cls]] == instrument and conf >= conf_threshold :\n",
    "        x_midpoint = (x1 + x2) / 2\n",
    "        y_midpoint = (y1 + y2) / 2\n",
    "        print(f\"Box center: ({x_midpoint:.0f}, {y_midpoint:.0f}) | Confidence: {conf:.2f} | Class: {results.names[cls]}\")\n",
    "        break\n",
    "\n",
    "if x_midpoint == 0:\n",
    "    print(\"No instrument found\")"
   ]
  },
  {
   "cell_type": "code",
   "execution_count": null,
   "id": "e99cdede-dae7-41d8-a49b-54de309d6f76",
   "metadata": {},
   "outputs": [],
   "source": []
  },
  {
   "cell_type": "code",
   "execution_count": 13,
   "id": "63b3f5da-389e-4151-a740-f18462d515da",
   "metadata": {},
   "outputs": [
    {
     "name": "stdout",
     "output_type": "stream",
     "text": [
      "Box center: (2446, 1436) | Confidence: 0.93 | Class: Scissors\n",
      "Box center: (1480, 1399) | Confidence: 0.85 | Class: Scalpel\n",
      "Box center: (1946, 1560) | Confidence: 0.79 | Class: Tweezers\n",
      "Box center: (2827, 1511) | Confidence: 0.73 | Class: Scissors\n"
     ]
    }
   ],
   "source": [
    "from PIL import Image, ImageDraw\n",
    "image_path = 'runs/detect/exp27/inst-notape.jpg'\n",
    "\n",
    "img = Image.open(image_path).convert(\"RGB\")\n",
    "draw = ImageDraw.Draw(img)\n",
    "radius = 20\n",
    "\n",
    "conf_threshold = 0.65\n",
    "\n",
    "detections = results.xyxy[0]\n",
    "\n",
    "x_midpoint = 0\n",
    "y_midpoint = 0\n",
    "\n",
    "for *box, conf, cls in detections:\n",
    "    cls = int(cls)\n",
    "    x1, y1, x2, y2 = box\n",
    "    # if detection matches the instrument from voice command\n",
    "    if conf >= conf_threshold :\n",
    "        x_midpoint = (x1 + x2) / 2\n",
    "        y_midpoint = (y1 + y2) / 2\n",
    "        print(f\"Box center: ({x_midpoint:.0f}, {y_midpoint:.0f}) | Confidence: {conf:.2f} | Class: {results.names[cls]}\")\n",
    "        left_up_point = (x_midpoint - radius, y_midpoint - radius)\n",
    "        right_down_point = (x_midpoint + radius, y_midpoint + radius)\n",
    "        draw.ellipse([left_up_point, right_down_point], fill='red', outline='red')\n",
    "\n",
    "img.show()"
   ]
  }
 ],
 "metadata": {
  "kernelspec": {
   "display_name": "Python (dt12)",
   "language": "python",
   "name": "dt12"
  },
  "language_info": {
   "codemirror_mode": {
    "name": "ipython",
    "version": 3
   },
   "file_extension": ".py",
   "mimetype": "text/x-python",
   "name": "python",
   "nbconvert_exporter": "python",
   "pygments_lexer": "ipython3",
   "version": "3.9.21"
  }
 },
 "nbformat": 4,
 "nbformat_minor": 5
}
