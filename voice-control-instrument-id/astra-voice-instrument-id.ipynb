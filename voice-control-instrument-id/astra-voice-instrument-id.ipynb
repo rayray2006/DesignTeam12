{
 "cells": [
  {
   "cell_type": "code",
   "execution_count": null,
   "id": "a8ac83fc-fad7-4ba8-bd93-82cc40f2942b",
   "metadata": {
    "scrolled": true
   },
   "outputs": [
    {
     "name": "stdout",
     "output_type": "stream",
     "text": [
      "models/astra.ppn\n",
      "loading model\n",
      "loading model finished\n",
      "Using prompts: Scalpel Forceps Scissors Tweezers\n"
     ]
    }
   ],
   "source": [
    "import time\n",
    "from collections import deque\n",
    "import os\n",
    "from dotenv import load_dotenv\n",
    "\n",
    "import numpy as np\n",
    "import pvporcupine\n",
    "import pvcobra\n",
    "import whisper\n",
    "from pvrecorder import PvRecorder\n",
    "import torch\n",
    "\n",
    "load_dotenv()\n",
    "\n",
    "porcupine = pvporcupine.create(\n",
    "    access_key=os.environ.get(\"ACCESS_KEY\"),\n",
    "    keyword_paths=[os.environ.get(\"WAKE_WORD_MODEL_PATH\")],\n",
    ")\n",
    "\n",
    "cobra = pvcobra.create(\n",
    "    access_key=os.environ.get(\"ACCESS_KEY\"),\n",
    ")\n",
    "\n",
    "recoder = PvRecorder(device_index=-1, frame_length=512)\n",
    "\n",
    "# frame length = 512\n",
    "# samples per frame = 16,000\n",
    "# 1 sec = 16,000 / 512\n",
    "\n",
    "\n",
    "class Transcriber:\n",
    "    def __init__(self, model) -> None:\n",
    "        print(\"loading model\")\n",
    "        # TODO: put model on GPU\n",
    "        self.model = whisper.load_model(model)\n",
    "        print(\"loading model finished\")\n",
    "        self.prompts = os.environ.get(\"WHISPER_INITIAL_PROMPT\", \"\")\n",
    "        print(f\"Using prompts: {self.prompts}\")\n",
    "\n",
    "    def transcribe(self, frames):\n",
    "        transcribe_start = time.time()\n",
    "        samples = np.array(frames, np.int16).flatten().astype(np.float32) / 32768.0\n",
    "\n",
    "        # audio = whisper.pad_or_trim(samples)\n",
    "        # print(f\"{transcribe_start} transcribing {len(frames)} frames.\")\n",
    "        # # audio = whisper.pad_or_trim(frames)\n",
    "\n",
    "        # # make log-Mel spectrogram and move to the same device as the model\n",
    "        # mel = whisper.log_mel_spectrogram(audio).to(self.model.device)\n",
    "\n",
    "        # # decode the audio\n",
    "        # options = whisper.DecodingOptions(fp16=False, language=\"english\")\n",
    "        # result = whisper.decode(self.model, mel, options)\n",
    "\n",
    "        result = self.model.transcribe(\n",
    "            audio=samples,\n",
    "            language=\"en\",\n",
    "            fp16=False,\n",
    "            initial_prompt=self.prompts,\n",
    "        )\n",
    "\n",
    "        # print the recognized text\n",
    "        transcribe_end = time.time()\n",
    "        # print(\n",
    "        #     f\"{transcribe_end} - {transcribe_end - transcribe_start}sec: {result.get('text')}\",\n",
    "        #     flush=True,\n",
    "        # )\n",
    "        return result.get(\"text\", \"speech not detected\")\n",
    "\n",
    "\n",
    "transcriber = Transcriber(os.environ.get(\"WHISPER_MODEL\"))\n",
    "\n",
    "sample_rate = 16000\n",
    "frame_size = 512\n",
    "vad_mean_probability_sensitivity = float(os.environ.get(\"VAD_SENSITIVITY\"))\n",
    "\n",
    "try:\n",
    "    recoder.start()\n",
    "\n",
    "    max_window_in_secs = 3\n",
    "    window_size = sample_rate * max_window_in_secs\n",
    "    samples = deque(maxlen=(window_size * 6))\n",
    "    vad_samples = deque(maxlen=25)\n",
    "    is_recording = False\n",
    "\n",
    "    while True:\n",
    "        data = recoder.read()\n",
    "        vad_prob = cobra.process(data)\n",
    "        vad_samples.append(vad_prob)\n",
    "        # print(f\"{vad_prob} - {np.mean(vad_samples)} - {len(vad_samples)}\")\n",
    "        if porcupine.process(data) >= 0:\n",
    "            print(f\"Detected wakeword\")\n",
    "            is_recording = True\n",
    "            samples.clear()\n",
    "\n",
    "        if is_recording:\n",
    "            if (\n",
    "                len(samples) < window_size\n",
    "                or np.mean(vad_samples) >= vad_mean_probability_sensitivity\n",
    "            ):\n",
    "                samples.extend(data)\n",
    "                # print(f\"listening - samples: {len(samples)}\")\n",
    "            else:\n",
    "                print(\"is_recording: False\")\n",
    "                print(transcriber.transcribe(samples))\n",
    "                is_recording = False\n",
    "except KeyboardInterrupt:\n",
    "    recoder.stop()\n",
    "finally:\n",
    "    porcupine.delete()\n",
    "    recoder.delete()\n",
    "    cobra.delete()\n"
   ]
  },
  {
   "cell_type": "code",
   "execution_count": 72,
   "id": "43138053-d5d3-4cae-8814-d0cd345bce87",
   "metadata": {},
   "outputs": [
    {
     "data": {
      "text/plain": [
       "'forceps'"
      ]
     },
     "execution_count": 72,
     "metadata": {},
     "output_type": "execute_result"
    }
   ],
   "source": [
    "# Identify instrument from transcription\n",
    "\n",
    "import string\n",
    "\n",
    "command = transcriber.transcribe(samples)\n",
    "# command = \"Give me forceps\"\n",
    "instruments = ['forceps', 'scalpel', 'scissors', 'tweezers']\n",
    "\n",
    "instrument = ''\n",
    "for word in command.split():\n",
    "    word = (word.translate(str.maketrans('', '', string.punctuation))).lower()\n",
    "    if word in instruments:\n",
    "        instrument = word\n",
    "\n",
    "if instrument == '':\n",
    "    print(\"No instrument found\")"
   ]
  },
  {
   "cell_type": "code",
   "execution_count": 5,
   "id": "4debb061-0a4f-4e5c-b169-7fad517d3e0f",
   "metadata": {},
   "outputs": [
    {
     "name": "stderr",
     "output_type": "stream",
     "text": [
      "Using cache found in C:\\Users\\maxis/.cache\\torch\\hub\\ultralytics_yolov5_master\n",
      "YOLOv5  2025-4-10 Python-3.9.21 torch-2.6.0+cu118 CUDA:0 (NVIDIA GeForce RTX 3050 Laptop GPU, 4096MiB)\n",
      "\n",
      "Fusing layers... \n",
      "Model summary: 267 layers, 46167513 parameters, 0 gradients, 107.8 GFLOPs\n",
      "Adding AutoShape... \n",
      "C:\\Users\\maxis/.cache\\torch\\hub\\ultralytics_yolov5_master\\models\\common.py:906: FutureWarning: `torch.cuda.amp.autocast(args...)` is deprecated. Please use `torch.amp.autocast('cuda', args...)` instead.\n",
      "  with amp.autocast(autocast):\n"
     ]
    }
   ],
   "source": [
    "# Yolo trained on DocCheck (Rona) dataset\n",
    "\n",
    "from ultralytics import YOLO\n",
    "import torch\n",
    "\n",
    "# load yolov5 from online\n",
    "# TODO: change to local\n",
    "model = torch.hub.load('ultralytics/yolov5', 'custom', path='./models/instrument_detector_model.pt', force_reload=False)  # load a custom model\n",
    "\n",
    "# Predict with the model\n",
    "results = model(\"./eval-images/cropped.png\")  # predict on an image\n"
   ]
  },
  {
   "cell_type": "code",
   "execution_count": 80,
   "id": "ccd98588-05c4-485d-a50d-bc110aef6e9a",
   "metadata": {},
   "outputs": [
    {
     "name": "stderr",
     "output_type": "stream",
     "text": [
      "Saved 1 image to \u001b[1mruns\\detect\\exp7\u001b[0m\n"
     ]
    }
   ],
   "source": [
    "results.save()"
   ]
  },
  {
   "cell_type": "code",
   "execution_count": 52,
   "id": "0e2a1344-4f7b-4193-bcbd-89272d9da10a",
   "metadata": {},
   "outputs": [],
   "source": [
    "# Translate results\n",
    "results.names = {0: 'Standard Anatomical Tweezers',\n",
    " 1: 'Slim Anatomical Tweezers',\n",
    " 2: 'Surgical Tweezers',\n",
    " 3: 'Splinter Tweezers',\n",
    " 4: 'Scalpel Handle No. 3',\n",
    " 5: 'Scalpel Handle No. 4',\n",
    " 6: 'Clenched Scalpel',\n",
    " 7: 'Narrow Scalpel',\n",
    " 8: 'Surgical Scissors Sharp/Sharp',\n",
    " 9: 'Surgical Scissors Sharp/Narrow',\n",
    " 10: 'Standard Dissecting Scissors',\n",
    " 11: 'Dissecting Needle'}\n",
    "\n",
    "# map labels to basic voice commands \"forceps\", \"scalpel\", \"scissors\", \"needle\"\n",
    "map_instruments = {results.names[0]: 'forceps',\n",
    "                   results.names[1]: 'forceps',\n",
    "                   results.names[2]: 'forceps',\n",
    "                   results.names[3]: 'forceps',\n",
    "                   results.names[4]: 'scalpel',\n",
    "                   results.names[5]: 'scalpel',\n",
    "                   results.names[6]: 'scalpel',\n",
    "                   results.names[7]: 'scalpel',\n",
    "                   results.names[8]: 'scissors',\n",
    "                   results.names[9]: 'scissors',\n",
    "                   results.names[10]: 'scissors',\n",
    "                   results.names[11]: 'needle'}"
   ]
  },
  {
   "cell_type": "code",
   "execution_count": 67,
   "id": "acdc1e78-dfd2-4d15-ba27-f6233739e2a2",
   "metadata": {},
   "outputs": [
    {
     "name": "stdout",
     "output_type": "stream",
     "text": [
      "Box center: (1946, 1560) | Confidence: 0.79 | Class: Surgical Tweezers\n"
     ]
    }
   ],
   "source": [
    "detections = results.xyxy[0]\n",
    "\n",
    "conf_threshold = 0.65\n",
    "# instruments = 'forceps'\n",
    "\n",
    "# TODO: account for when there's multiple types of the same instrument\n",
    "\n",
    "x_midpoint = 0\n",
    "y_midpoint = 0\n",
    "\n",
    "for *box, conf, cls in detections:\n",
    "    cls = int(cls)\n",
    "    x1, y1, x2, y2 = box\n",
    "    # if detection matches the instrument from voice command\n",
    "    if map_instruments[results.names[cls]] == instrument and conf >= conf_threshold :\n",
    "        x_midpoint = (x1 + x2) / 2\n",
    "        y_midpoint = (y1 + y2) / 2\n",
    "        print(f\"Box center: ({x_midpoint:.0f}, {y_midpoint:.0f}) | Confidence: {conf:.2f} | Class: {results.names[cls]}\")\n",
    "        break\n",
    "\n",
    "if x_midpoint == 0:\n",
    "    print(\"No instrument found\")"
   ]
  },
  {
   "cell_type": "raw",
   "id": "d2700501-6e17-492f-9ade-f7d70e828377",
   "metadata": {},
   "source": []
  }
 ],
 "metadata": {
  "kernelspec": {
   "display_name": "Python (dt12)",
   "language": "python",
   "name": "dt12"
  },
  "language_info": {
   "codemirror_mode": {
    "name": "ipython",
    "version": 3
   },
   "file_extension": ".py",
   "mimetype": "text/x-python",
   "name": "python",
   "nbconvert_exporter": "python",
   "pygments_lexer": "ipython3",
   "version": "3.9.21"
  }
 },
 "nbformat": 4,
 "nbformat_minor": 5
}
